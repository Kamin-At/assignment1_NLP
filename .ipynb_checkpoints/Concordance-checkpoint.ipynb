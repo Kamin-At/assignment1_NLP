{
 "cells": [
  {
   "cell_type": "code",
   "execution_count": 32,
   "metadata": {},
   "outputs": [],
   "source": [
    "import regex as re\n",
    "import math\n",
    "import os\n",
    "import json"
   ]
  },
  {
   "cell_type": "code",
   "execution_count": 27,
   "metadata": {},
   "outputs": [
    {
     "name": "stdout",
     "output_type": "stream",
     "text": [
      "582965\n"
     ]
    }
   ],
   "source": [
    "text = ''\n",
    "with open('1984.txt', 'r', encoding='utf8') as f:\n",
    "    for ind, i in enumerate(f):\n",
    "        if ind != 0:\n",
    "            if 'A' <= text[-1] <= 'Z' or 'a' <= text[-1] <= 'z':\n",
    "                text = text + ' ' + i.strip()\n",
    "            else:\n",
    "                text = text + i.strip()\n",
    "        else:\n",
    "            text = text + i.strip()\n",
    "print(len(text))"
   ]
  },
  {
   "cell_type": "code",
   "execution_count": 28,
   "metadata": {},
   "outputs": [],
   "source": [
    "#pattern = r'[^a-zA-Z][Tt]he[^a-zA-Z]'\n",
    "def concordance(text, pattern, window_size):\n",
    "    \n",
    "    matches = re.finditer(pattern, text)\n",
    "    if matches:\n",
    "        for match in matches:\n",
    "            length_of_pattern = match.end() - match.start() + 1\n",
    "            if window_size - length_of_pattern < 0:\n",
    "                raise ValueError('window size is too small!')\n",
    "            \n",
    "            num_remaining_char = window_size - length_of_pattern\n",
    "            left_window = math.floor(num_remaining_char/2)\n",
    "            right_window = num_remaining_char - left_window\n",
    "            \n",
    "            if match.start() - left_window < 0:\n",
    "                left_index = match.start()\n",
    "                right_index = left_index + length_of_pattern - 1\n",
    "            elif match.end() + right_window - 1 >= len(text):\n",
    "                right_index = len(text) - 1\n",
    "                left_index = right_index - length_of_pattern + 1\n",
    "            else:\n",
    "                left_index = match.start() - left_window\n",
    "                right_index = match.end() + right_window\n",
    "            #print(text[left_index:right_index + 1])\n",
    "            yield text[left_index:right_index + 1]"
   ]
  },
  {
   "cell_type": "code",
   "execution_count": 39,
   "metadata": {
    "scrolled": true
   },
   "outputs": [
    {
     "name": "stdout",
     "output_type": "stream",
     "text": [
      "('the', 5741)\n",
      "('of', 910)\n",
      "('in', 613)\n",
      "('at', 460)\n",
      "('they', 443)\n",
      "('nd', 425)\n",
      "('to', 367)\n",
      "('there', 302)\n",
      "('on', 280)\n",
      "('ed', 257)\n",
      "('th', 230)\n",
      "('their', 230)\n",
      "('ng', 221)\n",
      "('en', 213)\n",
      "('w', 200)\n",
      "('as', 194)\n",
      "('ut', 184)\n",
      "('om', 181)\n",
      "('them', 177)\n",
      "('Par', 173)\n",
      "('er', 159)\n",
      "('other', 148)\n",
      "('or', 146)\n",
      "('re', 143)\n",
      "('e', 126)\n",
      "('then', 119)\n",
      "('s,', 115)\n",
      "('sam', 114)\n",
      "('by', 107)\n",
      "('wor', 98)\n",
      "('ha', 98)\n",
      "('we', 94)\n",
      "('ly', 93)\n",
      "('oth', 92)\n",
      "('a', 91)\n",
      "('ll', 90)\n",
      "('another', 84)\n",
      "('gh', 82)\n",
      "('tel', 78)\n",
      "('pas', 77)\n",
      "('st', 75)\n",
      "('In', 74)\n",
      "('ch', 69)\n",
      "('pro', 68)\n",
      "('e,', 64)\n",
      "('se', 60)\n",
      "('is', 60)\n",
      "('i', 60)\n",
      "('str', 58)\n",
      "('Min', 56)\n",
      "('t', 55)\n",
      "('co', 53)\n",
      "('h', 53)\n",
      "('ar', 53)\n",
      "('roo', 51)\n",
      "('whether', 51)\n",
      "('es', 50)\n",
      "('ce', 49)\n",
      "('them.', 49)\n",
      "('ad', 48)\n",
      "('ke', 48)\n",
      "('de', 47)\n",
      "('an', 47)\n",
      "('ss', 47)\n",
      "('end', 46)\n",
      "('f', 46)\n",
      "('s', 45)\n",
      "('t,', 44)\n",
      "('d,', 43)\n",
      "('con', 43)\n",
      "('o', 43)\n",
      "('id', 42)\n",
      "('fac', 41)\n",
      "('sta', 41)\n",
      "('r,', 40)\n",
      "('if', 40)\n",
      "('old', 40)\n",
      "('me', 39)\n",
      "('up', 39)\n",
      "('Tho', 37)\n",
      "('who', 37)\n",
      "('gir', 37)\n",
      "('fir', 36)\n",
      "('te', 35)\n",
      "('them,', 35)\n",
      "('nt', 34)\n",
      "('le', 34)\n",
      "('wa', 34)\n",
      "('these', 34)\n",
      "('n,', 34)\n",
      "('wn', 34)\n",
      "('m', 34)\n",
      "('ow', 34)\n",
      "('themsel', 34)\n",
      "('win', 33)\n",
      "('dia', 33)\n",
      "('y,', 33)\n",
      "('flo', 32)\n",
      "('mom', 32)\n"
     ]
    }
   ],
   "source": [
    "pattern = r'the'\n",
    "cnt_real_the = 0\n",
    "number_of_top = 100\n",
    "\n",
    "dictionary = {}\n",
    "with open('result.txt', 'w', encoding = 'utf8') as f:\n",
    "    for i in concordance(text, pattern, 10):\n",
    "        for word in i.split():\n",
    "            if word not in dictionary:\n",
    "                dictionary[word] = 1\n",
    "            else:\n",
    "                dictionary[word] = dictionary[word] + 1\n",
    "        f.write(i + '\\n')\n",
    "\n",
    "with open('dictionary.json', 'w', encoding = 'utf8') as fp:\n",
    "    json.dump(dictionary, fp)\n",
    "top_words = [(k, dictionary[k]) for k in sorted(dictionary, key=dictionary.get, reverse=True)]\n",
    "with open('result_top_100.txt', 'w', encoding = 'utf8') as f:\n",
    "    for word in top_words[:number_of_top -1]:\n",
    "        print(word)\n",
    "        f.write(word[0] + ' ' + str(word[1]) + '\\n')"
   ]
  },
  {
   "cell_type": "code",
   "execution_count": 25,
   "metadata": {},
   "outputs": [],
   "source": [
    "x = 'A'\n",
    "if 'a' <= x <= 'z':\n",
    "    print('yes')"
   ]
  },
  {
   "cell_type": "code",
   "execution_count": null,
   "metadata": {},
   "outputs": [],
   "source": []
  },
  {
   "cell_type": "code",
   "execution_count": null,
   "metadata": {},
   "outputs": [],
   "source": []
  }
 ],
 "metadata": {
  "kernelspec": {
   "display_name": "text",
   "language": "python",
   "name": "text"
  },
  "language_info": {
   "codemirror_mode": {
    "name": "ipython",
    "version": 3
   },
   "file_extension": ".py",
   "mimetype": "text/x-python",
   "name": "python",
   "nbconvert_exporter": "python",
   "pygments_lexer": "ipython3",
   "version": "3.6.9"
  }
 },
 "nbformat": 4,
 "nbformat_minor": 2
}
